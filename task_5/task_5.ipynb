{
 "cells": [
  {
   "cell_type": "code",
   "execution_count": null,
   "id": "81569031",
   "metadata": {},
   "outputs": [],
   "source": [
    "# Question 1\n",
    "import re\n",
    "T = int(input())\n",
    "pattern= '^[+-]?[0-9]*[.][0-9]+$'\n",
    "for i in range(T):\n",
    "    s = input()\n",
    "    if re.match(pattern,s):\n",
    "        print(\"True\")\n",
    "    else:\n",
    "        print(\"False\")"
   ]
  },
  {
   "cell_type": "code",
   "execution_count": null,
   "id": "98b521e3",
   "metadata": {},
   "outputs": [],
   "source": [
    "# Question 2\n",
    "regex_pattern = r\"[,.]+\"\t# Do not delete 'r'.\n",
    "\n",
    "import re\n",
    "print(\"\\n\".join(re.split(regex_pattern, input())))"
   ]
  },
  {
   "cell_type": "code",
   "execution_count": null,
   "id": "39708f17",
   "metadata": {},
   "outputs": [],
   "source": [
    "# Question 3\n",
    "import re\n",
    "S = input()\n",
    "u = re.search(r'([a-zA-Z0-9])\\1',S)\n",
    "if u:\n",
    "    print(u.group()[0])\n",
    "else:\n",
    "    print(-1)"
   ]
  },
  {
   "cell_type": "code",
   "execution_count": null,
   "id": "dfd73027",
   "metadata": {},
   "outputs": [],
   "source": [
    "# Question 4\n",
    "import re\n",
    "S = input()\n",
    "pattern = \"(?<=[^aeiouAEIOU])([aeiouAEIOU]{2,})(?=[^aeiouAEIOU])\"\n",
    "result = re.findall(pattern,S)\n",
    "if result:\n",
    "    for i in result:\n",
    "        print(i)\n",
    "else:\n",
    "    print(-1)\n"
   ]
  },
  {
   "cell_type": "code",
   "execution_count": null,
   "id": "34400ef7",
   "metadata": {},
   "outputs": [],
   "source": [
    "# Question 5\n",
    "import re\n",
    "S = input()\n",
    "k = input()\n",
    "pattern = re.compile(k)\n",
    "m = pattern.search(S)\n",
    "if m:\n",
    "    while m:\n",
    "        print(\"({0}, {1})\".format(m.start(),m.end()-1))\n",
    "        m = pattern.search(S,m.start()+1)\n",
    "    \n",
    "else:\n",
    "    print((-1,-1))"
   ]
  },
  {
   "cell_type": "code",
   "execution_count": null,
   "id": "aa063559",
   "metadata": {},
   "outputs": [],
   "source": [
    "# Question 6\n",
    "import re \n",
    "N = int(input())\n",
    "for i in range(N):\n",
    "    s = input()\n",
    "    s = re.sub(r'(?<= )\\&{2}(?= )','and',s)\n",
    "    s = re.sub(r'(?<= )\\|{2}(?= )','or',s)\n",
    "    \n",
    "    print(s)"
   ]
  },
  {
   "cell_type": "code",
   "execution_count": null,
   "id": "834b0516",
   "metadata": {},
   "outputs": [],
   "source": [
    "# Question 7\n",
    "regex_pattern = r\"^(M{0,3})(C{0,3}|CD|D|DC|DCC|DCCC|CM)(X{0,3}|XL|L|LX|LXX|LXXX|XC)(I{0,3}|IV|VI|VII|VIII|IX|X)$\"\n",
    "\n",
    "import re\n",
    "print(str(bool(re.match(regex_pattern, input()))))"
   ]
  },
  {
   "cell_type": "code",
   "execution_count": null,
   "id": "3dc196da",
   "metadata": {},
   "outputs": [],
   "source": [
    "# Question 8\n",
    "import re\n",
    "N = int(input())\n",
    "for i in range(N):\n",
    "    if re.match(r'^(7|8|9)\\d{9}$',input()):\n",
    "        print('YES')\n",
    "    else:\n",
    "        print('NO')"
   ]
  },
  {
   "cell_type": "code",
   "execution_count": null,
   "id": "2d1f3177",
   "metadata": {},
   "outputs": [],
   "source": [
    "# Question 9\n",
    "import re\n",
    "import email.utils\n",
    "n = int(input())\n",
    "for i in range(n):\n",
    "    emls = email.utils.parseaddr(input())\n",
    "    if re.match(r'^[a-z][\\w\\-.]*@[a-z]+\\.[a-z]{1,3}$',emls[1]):\n",
    "        print(email.utils.formataddr((emls[0],emls[1])))\n",
    "    "
   ]
  },
  {
   "cell_type": "code",
   "execution_count": null,
   "id": "918b8228",
   "metadata": {},
   "outputs": [],
   "source": [
    "# Question 10\n",
    "import re\n",
    "N = int(input())\n",
    "for i in range(N):\n",
    "    css = input()\n",
    "    if (bool(re.search(r\"^#\",css)) == False):\n",
    "        inp = re.findall(r\"#[0-9a-fA-F]{6}|#[0-9a-fA-F]{3}\",css)\n",
    "        if (inp!=[]):\n",
    "            print(*inp,sep=\"\\n\")\n",
    "        "
   ]
  },
  {
   "cell_type": "code",
   "execution_count": null,
   "id": "90fec6c2",
   "metadata": {},
   "outputs": [],
   "source": [
    "# Question 11\n",
    "from html.parser import HTMLParser\n",
    "\n",
    "# create a subclass and override the handler methods\n",
    "class MyHTMLParser(HTMLParser):\n",
    "    def handle_starttag(self, tag, attrs):\n",
    "        print(\"Start :\", tag)\n",
    "        for atrr in attrs:\n",
    "            if(atrr[1]==None):\n",
    "                print(\"-> \" +atrr[0] +\" > \" +\"None\")\n",
    "            else:\n",
    "                print(\"-> \" +atrr[0] +\" > \" +atrr[1])\n",
    "    def handle_endtag(self, tag):\n",
    "        print(\"End   :\", tag)\n",
    "    def handle_startendtag(self, tag, attrs):\n",
    "        print(\"Empty :\", tag)\n",
    "        for atrr in attrs:\n",
    "            if(atrr[1]==None):\n",
    "                print(\"-> \" +atrr[0] +\" > \" +\"None\")\n",
    "            else:\n",
    "                print(\"-> \" +atrr[0] +\" > \" +atrr[1])\n",
    "        \n",
    "\n",
    "# instantiate the parser and fed it some HTML\n",
    "parser = MyHTMLParser()\n",
    "N = int(input())\n",
    "for i in range(N):\n",
    "    parser.feed(input())"
   ]
  },
  {
   "cell_type": "code",
   "execution_count": null,
   "id": "67dd7cbd",
   "metadata": {},
   "outputs": [],
   "source": [
    "# Question 12\n",
    "from html.parser import HTMLParser\n",
    "\n",
    "class MyHTMLParser(HTMLParser):\n",
    "    def handle_comment(self, data):       \n",
    "        lst = data.split(\"\\n\")\n",
    "        if (len(lst)==1):\n",
    "            print(\">>> Single-line Comment \")\n",
    "            print(lst[0])\n",
    "        else:\n",
    "            print(\">>> Multi-line Comment \")\n",
    "            print(*lst,sep=\"\\n\")\n",
    "            \n",
    "    def handle_data(self, data):\n",
    "        if(data!=\"\\n\"):\n",
    "            print (\">>> Data\")\n",
    "            print(data)\n",
    "                \n",
    "html=\"\"       \n",
    "N = int(input())\n",
    "for i in range(N):\n",
    "    html += input().rstrip()\n",
    "    html += \"\\n\"\n",
    "    \n",
    "    \n",
    "parser = MyHTMLParser()\n",
    "parser.feed(html)"
   ]
  },
  {
   "cell_type": "code",
   "execution_count": null,
   "id": "cfc42eb0",
   "metadata": {},
   "outputs": [],
   "source": [
    "# Question 13\n",
    "from html.parser import HTMLParser\n",
    "\n",
    "class MyHTMLParser(HTMLParser):\n",
    "    def handle_starttag(self, tag, attrs):\n",
    "        print(tag)\n",
    "        for atrr in attrs: \n",
    "            print(\"-> \" +atrr[0] +\" > \" +atrr[1])\n",
    "    \n",
    "# instantiate the parser and fed it some HTML\n",
    "parser = MyHTMLParser()\n",
    "N = int(input())\n",
    "for i in range(N):\n",
    "    parser.feed(input())"
   ]
  },
  {
   "cell_type": "code",
   "execution_count": null,
   "id": "641d7d81",
   "metadata": {},
   "outputs": [],
   "source": [
    "# Question 14\n",
    "import re\n",
    "\n",
    "\n",
    "for i in range(int(input())):\n",
    "    \n",
    "    s = input()\n",
    "    \n",
    "    if (re.search(r\"^[a-zA-Z0-9]{10}$\",s)):\n",
    "        if (re.search(r\"[A-Z][a-z0-9]*[A-Z]\",s)):\n",
    "            if (re.search(r\"[0-9][a-zA-Z]*[0-9][a-zA-Z]*[0-9]\",s)):\n",
    "                if (re.search(r\"([a-zA-Z0-9])[a-zA-Z0-9]*(?=\\1)\",s)):\n",
    "                    print(\"Invalid\")                  \n",
    "                else:\n",
    "                    print(\"Valid\")            \n",
    "            else:\n",
    "                print('Invalid')\n",
    "        else:\n",
    "            print('Invalid')    \n",
    "    else:\n",
    "        print(\"Invalid\")\n"
   ]
  },
  {
   "cell_type": "code",
   "execution_count": null,
   "id": "dea49653",
   "metadata": {},
   "outputs": [],
   "source": [
    "# Question 15\n",
    "import re\n",
    "\n",
    "N = int(input())\n",
    "\n",
    "for i in range(N):\n",
    "    s = input()\n",
    "    t = re.search(r\"^[456][0-9]{15}$|^[456][0-9]{3}-[0-9]{4}-[0-9]{4}-[0-9]{4}$\",s)\n",
    "    if(t):\n",
    "        if(re.search(r\"(\\d)\\1{3,}|(\\d)\\2{1}-(\\d)\\2{1}|-(\\d)\\4{3}-\",s)): \n",
    "            print(\"Invalid\")\n",
    "        else:    \n",
    "            print(\"Valid\")   \n",
    "    else:\n",
    "        print(\"Invalid\")"
   ]
  },
  {
   "cell_type": "code",
   "execution_count": null,
   "id": "6e921935",
   "metadata": {},
   "outputs": [],
   "source": [
    "# Question 16\n",
    "regex_integer_in_range = r\"^[1-9]{1}[0-9]{5}$\"\t# Do not delete 'r'.\n",
    "regex_alternating_repetitive_digit_pair = r\"(?<=([0-9]))\\d(?=\\1)\"\t# Do not delete 'r'.\n",
    "\n",
    "\n",
    "import re\n",
    "P = input()\n",
    "\n",
    "print (bool(re.match(regex_integer_in_range, P)) \n",
    "and len(re.findall(regex_alternating_repetitive_digit_pair, P)) < 2)"
   ]
  },
  {
   "cell_type": "code",
   "execution_count": null,
   "id": "782dfb96",
   "metadata": {},
   "outputs": [],
   "source": [
    "# Question 17\n",
    "import math\n",
    "import os\n",
    "import random\n",
    "import re\n",
    "import sys\n",
    "\n",
    "\n",
    "first_multiple_input = input().rstrip().split()\n",
    "\n",
    "n = int(first_multiple_input[0])\n",
    "\n",
    "m = int(first_multiple_input[1])\n",
    "\n",
    "matrix = []\n",
    "temp = []\n",
    "for _ in range(n):\n",
    "    matrix_item = input()\n",
    "    matrix.append(matrix_item)\n",
    "\n",
    "for i in range(m):\n",
    "    for j in matrix:\n",
    "        temp.append(j[i]) \n",
    "        \n",
    "temp = \"\".join(temp)\n",
    "\n",
    "t = re.sub(r\"(?<=[a-zA-Z0-9])[!,@,#,$,%,&,\\s]+(?=[a-zA-Z0-9])\",\" \",temp)\n",
    "print(t)"
   ]
  }
 ],
 "metadata": {
  "kernelspec": {
   "display_name": "Python 3 (ipykernel)",
   "language": "python",
   "name": "python3"
  },
  "language_info": {
   "codemirror_mode": {
    "name": "ipython",
    "version": 3
   },
   "file_extension": ".py",
   "mimetype": "text/x-python",
   "name": "python",
   "nbconvert_exporter": "python",
   "pygments_lexer": "ipython3",
   "version": "3.9.7"
  }
 },
 "nbformat": 4,
 "nbformat_minor": 5
}
